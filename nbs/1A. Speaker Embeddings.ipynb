{
 "cells": [
  {
   "cell_type": "code",
   "execution_count": null,
   "id": "a9158eaa",
   "metadata": {},
   "outputs": [],
   "source": [
    "#| default_exp extract_spk_emb"
   ]
  },
  {
   "cell_type": "markdown",
   "id": "3494cca7",
   "metadata": {},
   "source": [
    "## Precompute Whisper transcriptions for VQ bottleneck distilation\n",
    "\n",
    "Doing transcription means sampling from the Whisper auto-regresive decoder. This is too slow to do for each training batch. Fortunately the trainscriptions are small text snippets so we can precompute them once for the whole dataset.\n",
    "\n",
    "We use segments from Voice Activity Detection to reduce any boundary issues, the we use webdataset to yields multiple chunks from a FLAC file we only load once. The VAD segments are merged into longer chunks to make Whisper processing more efficent (it always processes 30s at a time)\n",
    "\n",
    "**Usage:**  \n",
    "```\n",
    "python -m whisperspeech.extract_spk_emb librilight-large-wo6454-flac-000002.tar\n",
    "```\n",
    "\n",
    "You can pass in either a URL or a local file name. Either way it will expect a `vad` file in the local directory. The result will go into a file in the current directory named after the source file but replacing `flac` with `txt`."
   ]
  },
  {
   "cell_type": "code",
   "execution_count": null,
   "id": "6cf56fcb",
   "metadata": {},
   "outputs": [],
   "source": [
    "%load_ext autoreload\n",
    "%autoreload 2"
   ]
  },
  {
   "cell_type": "code",
   "execution_count": null,
   "id": "8ac6d8f8",
   "metadata": {},
   "outputs": [
    {
     "name": "stderr",
     "output_type": "stream",
     "text": [
      "/opt/conda/lib/python3.10/site-packages/pyannote/audio/core/io.py:43: UserWarning: torchaudio._backend.set_audio_backend has been deprecated. With dispatcher enabled, this function is no-op. You can remove the function call.\n",
      "  torchaudio.set_audio_backend(\"soundfile\")\n",
      "/opt/conda/lib/python3.10/site-packages/torch_audiomentations/utils/io.py:27: UserWarning: torchaudio._backend.set_audio_backend has been deprecated. With dispatcher enabled, this function is no-op. You can remove the function call.\n",
      "  torchaudio.set_audio_backend(\"soundfile\")\n"
     ]
    }
   ],
   "source": [
    "#| export\n",
    "import os\n",
    "from os.path import expanduser\n",
    "import sys\n",
    "\n",
    "from fastprogress import progress_bar\n",
    "from fastcore.script import *\n",
    "import webdataset as wds\n",
    "import torch\n",
    "import torch.nn.functional as F\n",
    "from torch.utils.data.dataloader import DataLoader\n",
    "\n",
    "from whisperspeech import vad, utils\n",
    "\n",
    "from speechbrain.pretrained import EncoderClassifier\n",
    "from whisperspeech.inference import get_compute_device"
   ]
  },
  {
   "cell_type": "markdown",
   "id": "4b52e3d6",
   "metadata": {},
   "source": [
    "## Batch processing\n",
    "\n",
    "Let's put everything above together."
   ]
  },
  {
   "cell_type": "code",
   "execution_count": null,
   "id": "0372a4f3",
   "metadata": {},
   "outputs": [],
   "source": [
    "#| exporti\n",
    "def calc_len(x):\n",
    "    x['seconds'] = torch.tensor(x['tend'] - x['tstart'])\n",
    "    return x\n",
    "\n",
    "def chunked_dataset(input, bs=16):\n",
    "    ds = utils.vad_dataset([input]).compose(\n",
    "        utils.resampler(16000, 'samples_16k'),\n",
    "        wds.map(calc_len),\n",
    "        wds.to_tuple('__key__', 'samples_16k', 'seconds'),\n",
    "        wds.batched(bs),\n",
    "    )\n",
    "    dl = DataLoader(ds, num_workers=1, batch_size=None)\n",
    "    return dl"
   ]
  },
  {
   "cell_type": "code",
   "execution_count": null,
   "id": "4355375d",
   "metadata": {},
   "outputs": [
    {
     "data": {
      "text/plain": [
       "(['cc/7 Sec Riddles/[-hIfETsPxPg] New TYPE Of Riddles： Can You Ace Our New Game？ ？_023',\n",
       "  'cc/Bon Appetit/[jmntzm5yBYY] Melissa Makes Chicken Afritada ｜ From the Home Kitchen ｜ Bon Appétit_037',\n",
       "  'cc/7 Sec Riddles/[-hIfETsPxPg] New TYPE Of Riddles： Can You Ace Our New Game？ ？_009',\n",
       "  'cc/Bon Appetit/[jmntzm5yBYY] Melissa Makes Chicken Afritada ｜ From the Home Kitchen ｜ Bon Appétit_010',\n",
       "  'cc/7 Sec Riddles/[-hIfETsPxPg] New TYPE Of Riddles： Can You Ace Our New Game？ ？_004',\n",
       "  'cc/Bon Appetit/[jmntzm5yBYY] Melissa Makes Chicken Afritada ｜ From the Home Kitchen ｜ Bon Appétit_049',\n",
       "  'cc/Bon Appetit/[jmntzm5yBYY] Melissa Makes Chicken Afritada ｜ From the Home Kitchen ｜ Bon Appétit_000',\n",
       "  'cc/Bon Appetit/[jmntzm5yBYY] Melissa Makes Chicken Afritada ｜ From the Home Kitchen ｜ Bon Appétit_024',\n",
       "  'cc/7 Sec Riddles/[-hIfETsPxPg] New TYPE Of Riddles： Can You Ace Our New Game？ ？_033',\n",
       "  'cc/Bon Appetit/[jmntzm5yBYY] Melissa Makes Chicken Afritada ｜ From the Home Kitchen ｜ Bon Appétit_034',\n",
       "  'cc/Bon Appetit/[jmntzm5yBYY] Melissa Makes Chicken Afritada ｜ From the Home Kitchen ｜ Bon Appétit_012',\n",
       "  'cc/Bon Appetit/[jmntzm5yBYY] Melissa Makes Chicken Afritada ｜ From the Home Kitchen ｜ Bon Appétit_052',\n",
       "  'cc/Bon Appetit/[jmntzm5yBYY] Melissa Makes Chicken Afritada ｜ From the Home Kitchen ｜ Bon Appétit_007',\n",
       "  'cc/7 Sec Riddles/[-hIfETsPxPg] New TYPE Of Riddles： Can You Ace Our New Game？ ？_030',\n",
       "  'cc/Bon Appetit/[jmntzm5yBYY] Melissa Makes Chicken Afritada ｜ From the Home Kitchen ｜ Bon Appétit_055',\n",
       "  'cc/Bon Appetit/[jmntzm5yBYY] Melissa Makes Chicken Afritada ｜ From the Home Kitchen ｜ Bon Appétit_006'],\n",
       " tensor([[-0.0154, -0.0289, -0.0376,  ...,  0.0000,  0.0000,  0.0000],\n",
       "         [-0.0035, -0.0058, -0.0082,  ...,  0.0000,  0.0000,  0.0000],\n",
       "         [-0.0082, -0.0150, -0.0179,  ...,  0.0000,  0.0000,  0.0000],\n",
       "         ...,\n",
       "         [-0.0018,  0.0017,  0.0005,  ...,  0.0000,  0.0000,  0.0000],\n",
       "         [ 0.0014,  0.0021,  0.0019,  ...,  0.0000,  0.0000,  0.0000],\n",
       "         [ 0.0055,  0.0106,  0.0086,  ...,  0.0000,  0.0000,  0.0000]]),\n",
       " tensor([ 5.1536,  8.5666,  2.2867, 22.5939,  1.7406, 22.4744,  2.2355,  2.3549,\n",
       "          2.0307, 18.0717,  6.4505,  2.1843,  1.6382,  5.5461,  2.6450, 29.1297]))"
      ]
     },
     "execution_count": null,
     "metadata": {},
     "output_type": "execute_result"
    }
   ],
   "source": [
    "dl = chunked_dataset('wolnelektury-audio-000000.tar')\n",
    "for keys, samples, seconds in dl: break\n",
    "keys, samples, seconds"
   ]
  },
  {
   "cell_type": "code",
   "execution_count": null,
   "id": "51f77cf5",
   "metadata": {},
   "outputs": [],
   "source": [
    "classifier = EncoderClassifier.from_hparams(\"speechbrain/spkrec-ecapa-voxceleb\",\n",
    "                                            savedir=os.path.expanduser(\"~/.cache/speechbrain/\"),\n",
    "                                            run_opts={\"device\": \"cuda\"})"
   ]
  },
  {
   "cell_type": "code",
   "execution_count": null,
   "id": "c66bfb64",
   "metadata": {},
   "outputs": [],
   "source": [
    "embs = F.normalize(classifier.encode_batch(samples, wav_lens=seconds/30).squeeze(1), dim=-1)"
   ]
  },
  {
   "cell_type": "code",
   "execution_count": null,
   "id": "d758e67f",
   "metadata": {},
   "outputs": [
    {
     "data": {
      "text/plain": [
       "tensor([[ 1.0000e+00, -1.5016e-01, -1.0663e-01,  7.4717e-01,  6.6663e-01,\n",
       "          6.7088e-01,  7.3192e-01,  8.0751e-01, -1.4667e-01, -1.5538e-01,\n",
       "          7.8594e-01, -1.7131e-01,  4.7389e-02,  3.8923e-01,  8.0528e-02,\n",
       "          6.8884e-02],\n",
       "        [-1.5016e-01,  1.0000e+00,  7.4450e-01, -7.8480e-02, -9.2287e-02,\n",
       "         -4.8926e-02, -1.8269e-01, -1.2868e-01,  6.2437e-01,  7.6687e-01,\n",
       "         -1.2109e-01,  5.7231e-01,  5.4483e-02, -1.3711e-02,  5.4225e-02,\n",
       "          1.0608e-01],\n",
       "        [-1.0663e-01,  7.4450e-01,  1.0000e+00, -9.6316e-02, -8.8784e-02,\n",
       "         -3.4282e-02, -1.6323e-01, -1.2561e-01,  5.7611e-01,  7.6471e-01,\n",
       "         -1.1900e-01,  5.1093e-01,  3.6564e-02,  2.1784e-03,  4.5240e-02,\n",
       "          8.6847e-02],\n",
       "        [ 7.4717e-01, -7.8480e-02, -9.6316e-02,  1.0000e+00,  6.9144e-01,\n",
       "          7.3513e-01,  7.2880e-01,  7.7707e-01, -8.8781e-02, -8.2090e-02,\n",
       "          7.7152e-01, -5.2820e-02,  7.3040e-02,  3.4047e-01,  9.3617e-02,\n",
       "          1.1111e-01],\n",
       "        [ 6.6663e-01, -9.2287e-02, -8.8784e-02,  6.9144e-01,  1.0000e+00,\n",
       "          7.1832e-01,  6.3586e-01,  7.3829e-01, -7.3225e-02, -1.2791e-01,\n",
       "          7.3249e-01, -4.8655e-04, -2.3932e-02,  3.5492e-01,  5.7829e-02,\n",
       "          1.2558e-01],\n",
       "        [ 6.7088e-01, -4.8926e-02, -3.4282e-02,  7.3513e-01,  7.1832e-01,\n",
       "          1.0000e+00,  6.7989e-01,  7.1707e-01, -1.1102e-01, -3.2756e-02,\n",
       "          7.0298e-01,  9.7910e-04,  3.2516e-02,  3.2002e-01,  9.5534e-02,\n",
       "          1.2125e-01],\n",
       "        [ 7.3192e-01, -1.8269e-01, -1.6323e-01,  7.2880e-01,  6.3586e-01,\n",
       "          6.7989e-01,  1.0000e+00,  7.4862e-01, -1.4716e-01, -1.8850e-01,\n",
       "          7.7709e-01, -1.4848e-01,  3.5645e-02,  3.9155e-01,  8.5304e-02,\n",
       "          7.6598e-02],\n",
       "        [ 8.0751e-01, -1.2868e-01, -1.2561e-01,  7.7707e-01,  7.3829e-01,\n",
       "          7.1707e-01,  7.4862e-01,  1.0000e+00, -1.3192e-01, -9.4631e-02,\n",
       "          8.1980e-01, -1.0383e-01, -1.2569e-02,  4.0366e-01,  1.3611e-02,\n",
       "          7.2108e-02],\n",
       "        [-1.4667e-01,  6.2437e-01,  5.7611e-01, -8.8781e-02, -7.3225e-02,\n",
       "         -1.1102e-01, -1.4716e-01, -1.3192e-01,  1.0000e+00,  6.1238e-01,\n",
       "         -7.4339e-02,  4.6340e-01, -3.2115e-02,  1.9445e-02, -2.3383e-03,\n",
       "         -5.2721e-04],\n",
       "        [-1.5538e-01,  7.6687e-01,  7.6471e-01, -8.2090e-02, -1.2791e-01,\n",
       "         -3.2756e-02, -1.8850e-01, -9.4631e-02,  6.1238e-01,  1.0000e+00,\n",
       "         -1.2142e-01,  5.6736e-01,  3.0472e-02, -2.1869e-02,  3.7176e-02,\n",
       "          1.1145e-01],\n",
       "        [ 7.8594e-01, -1.2109e-01, -1.1900e-01,  7.7152e-01,  7.3249e-01,\n",
       "          7.0298e-01,  7.7709e-01,  8.1980e-01, -7.4339e-02, -1.2142e-01,\n",
       "          1.0000e+00, -4.7116e-02,  3.0283e-02,  3.6122e-01,  3.7660e-02,\n",
       "          1.3460e-01],\n",
       "        [-1.7131e-01,  5.7231e-01,  5.1093e-01, -5.2820e-02, -4.8655e-04,\n",
       "          9.7910e-04, -1.4848e-01, -1.0383e-01,  4.6340e-01,  5.6736e-01,\n",
       "         -4.7116e-02,  1.0000e+00,  1.2047e-01,  1.8673e-02,  1.4013e-01,\n",
       "          1.9592e-01],\n",
       "        [ 4.7389e-02,  5.4483e-02,  3.6564e-02,  7.3040e-02, -2.3932e-02,\n",
       "          3.2516e-02,  3.5645e-02, -1.2569e-02, -3.2115e-02,  3.0472e-02,\n",
       "          3.0283e-02,  1.2047e-01,  1.0000e+00, -2.5141e-02,  8.7659e-01,\n",
       "          6.1994e-01],\n",
       "        [ 3.8923e-01, -1.3711e-02,  2.1784e-03,  3.4047e-01,  3.5492e-01,\n",
       "          3.2002e-01,  3.9155e-01,  4.0366e-01,  1.9445e-02, -2.1869e-02,\n",
       "          3.6122e-01,  1.8673e-02, -2.5141e-02,  1.0000e+00,  2.9265e-04,\n",
       "          2.0769e-02],\n",
       "        [ 8.0528e-02,  5.4225e-02,  4.5240e-02,  9.3617e-02,  5.7829e-02,\n",
       "          9.5534e-02,  8.5304e-02,  1.3611e-02, -2.3383e-03,  3.7176e-02,\n",
       "          3.7660e-02,  1.4013e-01,  8.7659e-01,  2.9265e-04,  1.0000e+00,\n",
       "          6.3008e-01],\n",
       "        [ 6.8884e-02,  1.0608e-01,  8.6847e-02,  1.1111e-01,  1.2558e-01,\n",
       "          1.2125e-01,  7.6598e-02,  7.2108e-02, -5.2721e-04,  1.1145e-01,\n",
       "          1.3460e-01,  1.9592e-01,  6.1994e-01,  2.0769e-02,  6.3008e-01,\n",
       "          1.0000e+00]], device='cuda:0')"
      ]
     },
     "execution_count": null,
     "metadata": {},
     "output_type": "execute_result"
    }
   ],
   "source": [
    "embs  @ embs.T"
   ]
  },
  {
   "cell_type": "code",
   "execution_count": null,
   "id": "54f3c726",
   "metadata": {},
   "outputs": [
    {
     "data": {
      "text/plain": [
       "tensor([ 4.9147, 14.5051,  8.8225,  9.8293,  4.2150,  3.1399,  5.1536,  5.5290,\n",
       "         4.9317, 12.8499,  7.5085,  2.3379, 17.1672,  1.2287, 29.0785,  3.2935])"
      ]
     },
     "execution_count": null,
     "metadata": {},
     "output_type": "execute_result"
    }
   ],
   "source": [
    "seconds"
   ]
  },
  {
   "cell_type": "code",
   "execution_count": null,
   "id": "acc5ab8a",
   "metadata": {},
   "outputs": [
    {
     "data": {
      "text/plain": [
       "tensor([[0.0000, 2.3003, 2.2133, 0.5057, 0.6667, 0.6582, 0.5362, 0.3850, 2.2933,\n",
       "         2.3108, 0.4281, 2.3426, 1.9052, 1.2215, 1.8389, 1.8622],\n",
       "        [2.3003, 0.0000, 0.5110, 2.1570, 2.1846, 2.0979, 2.3654, 2.2574, 0.7513,\n",
       "         0.4663, 2.2422, 0.8554, 1.8910, 2.0274, 1.8916, 1.7878],\n",
       "        [2.2133, 0.5110, 0.0000, 2.1926, 2.1776, 2.0686, 2.3265, 2.2512, 0.8478,\n",
       "         0.4706, 2.2380, 0.9781, 1.9269, 1.9956, 1.9095, 1.8263],\n",
       "        [0.5057, 2.1570, 2.1926, 0.0000, 0.6171, 0.5297, 0.5424, 0.4459, 2.1776,\n",
       "         2.1642, 0.4570, 2.1056, 1.8539, 1.3191, 1.8128, 1.7778],\n",
       "        [0.6667, 2.1846, 2.1776, 0.6171, 0.0000, 0.5634, 0.7283, 0.5234, 2.1465,\n",
       "         2.2558, 0.5350, 2.0010, 2.0479, 1.2902, 1.8843, 1.7488],\n",
       "        [0.6582, 2.0979, 2.0686, 0.5297, 0.5634, 0.0000, 0.6402, 0.5659, 2.2220,\n",
       "         2.0655, 0.5940, 1.9980, 1.9350, 1.3600, 1.8089, 1.7575],\n",
       "        [0.5362, 2.3654, 2.3265, 0.5424, 0.7283, 0.6402, 0.0000, 0.5028, 2.2943,\n",
       "         2.3770, 0.4458, 2.2970, 1.9287, 1.2169, 1.8294, 1.8468],\n",
       "        [0.3850, 2.2574, 2.2512, 0.4459, 0.5234, 0.5659, 0.5028, 0.0000, 2.2638,\n",
       "         2.1893, 0.3604, 2.2077, 2.0251, 1.1927, 1.9728, 1.8558],\n",
       "        [2.2933, 0.7513, 0.8478, 2.1776, 2.1465, 2.2220, 2.2943, 2.2638, 0.0000,\n",
       "         0.7752, 2.1487, 1.0732, 2.0642, 1.9611, 2.0047, 2.0011],\n",
       "        [2.3108, 0.4663, 0.4706, 2.1642, 2.2558, 2.0655, 2.3770, 2.1893, 0.7752,\n",
       "         0.0000, 2.2428, 0.8653, 1.9391, 2.0437, 1.9256, 1.7771],\n",
       "        [0.4281, 2.2422, 2.2380, 0.4570, 0.5350, 0.5940, 0.4458, 0.3604, 2.1487,\n",
       "         2.2428, 0.0000, 2.0942, 1.9394, 1.2776, 1.9247, 1.7308],\n",
       "        [2.3426, 0.8554, 0.9781, 2.1056, 2.0010, 1.9980, 2.2970, 2.2077, 1.0732,\n",
       "         0.8653, 2.0942, 0.0000, 1.7591, 1.9627, 1.7197, 1.6082],\n",
       "        [1.9052, 1.8910, 1.9269, 1.8539, 2.0479, 1.9350, 1.9287, 2.0251, 2.0642,\n",
       "         1.9391, 1.9394, 1.7591, 0.0000, 2.0503, 0.2468, 0.7601],\n",
       "        [1.2215, 2.0274, 1.9956, 1.3191, 1.2902, 1.3600, 1.2169, 1.1927, 1.9611,\n",
       "         2.0437, 1.2776, 1.9627, 2.0503, 0.0000, 1.9994, 1.9585],\n",
       "        [1.8389, 1.8916, 1.9095, 1.8128, 1.8843, 1.8089, 1.8294, 1.9728, 2.0047,\n",
       "         1.9256, 1.9247, 1.7197, 0.2468, 1.9994, 0.0000, 0.7398],\n",
       "        [1.8622, 1.7878, 1.8263, 1.7778, 1.7488, 1.7575, 1.8468, 1.8558, 2.0011,\n",
       "         1.7771, 1.7308, 1.6082, 0.7601, 1.9585, 0.7398, 0.0000]],\n",
       "       device='cuda:0')"
      ]
     },
     "execution_count": null,
     "metadata": {},
     "output_type": "execute_result"
    }
   ],
   "source": [
    "((embs.unsqueeze(1) - embs.unsqueeze(0))**2).sum(-1)"
   ]
  },
  {
   "cell_type": "code",
   "execution_count": null,
   "id": "9a2cf9a0",
   "metadata": {},
   "outputs": [
    {
     "data": {
      "text/plain": [
       "<matplotlib.image.AxesImage>"
      ]
     },
     "execution_count": null,
     "metadata": {},
     "output_type": "execute_result"
    },
    {
     "data": {
      "image/png": "[encoded data removed]",
      "text/plain": [
       "<Figure size 640x480 with 1 Axes>"
      ]
     },
     "metadata": {},
     "output_type": "display_data"
    }
   ],
   "source": [
    "from matplotlib import pyplot as plt\n",
    "plt.imshow(((embs.unsqueeze(1) - embs.unsqueeze(0))**2).sum(-1).cpu())"
   ]
  },
  {
   "cell_type": "code",
   "execution_count": null,
   "id": "0b1f5754",
   "metadata": {},
   "outputs": [],
   "source": [
    "#| exporti\n",
    "@call_parse\n",
    "def process_shard(\n",
    "    input:str,          # input shard URL/path\n",
    "    output:str,         # output shard URL/path\n",
    "    batch_size:int=16,        # batch size\n",
    "    n_samples:int=None, # limit the number of samples (useful for quick benchmarking)\n",
    "):\n",
    "    device = get_compute_device()\n",
    "    if n_samples is None: total = 'noinfer'\n",
    "    else: total = n_samples // batch_size\n",
    "\n",
    "    dl = chunked_dataset(input, bs=batch_size)\n",
    "    \n",
    "    classifier = EncoderClassifier.from_hparams(\"speechbrain/spkrec-ecapa-voxceleb\",\n",
    "                                                savedir=expanduser(\"~/.cache/speechbrain/\"),\n",
    "                                                run_opts = {\"device\": device})\n",
    "    \n",
    "    with utils.AtomicTarWriter(output) as sink:\n",
    "        for keys, samples, seconds in progress_bar(dl, total=total):\n",
    "            with torch.no_grad():\n",
    "                embs = classifier.encode_batch(samples, wav_lens=seconds/30).squeeze(1)\n",
    "            for key, emb in zip(keys, embs):\n",
    "                sink.write({\n",
    "                    \"__key__\": key,\n",
    "                    \"spk_emb.npy\": emb.cpu().numpy(),\n",
    "                })\n",
    "        if n_samples is not None:\n",
    "            sink.abort = True\n",
    "        sys.stdout.write(\"\\n\")"
   ]
  }
 ],
 "metadata": {
  "kernelspec": {
   "display_name": "python3",
   "language": "python",
   "name": "python3"
  }
 },
 "nbformat": 4,
 "nbformat_minor": 5
}
